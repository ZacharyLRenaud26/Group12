{
 "cells": [
  {
   "cell_type": "code",
   "execution_count": 5,
   "metadata": {},
   "outputs": [
    {
     "ename": "SyntaxError",
     "evalue": "invalid syntax (<ipython-input-5-7b3240fa5e72>, line 3)",
     "output_type": "error",
     "traceback": [
      "\u001b[0;36m  File \u001b[0;32m\"<ipython-input-5-7b3240fa5e72>\"\u001b[0;36m, line \u001b[0;32m3\u001b[0m\n\u001b[0;31m    print(\"Welcome \" + name1 \" to this madlib! Enter what you want to make a silly madlib!\")\u001b[0m\n\u001b[0m                             ^\u001b[0m\n\u001b[0;31mSyntaxError\u001b[0m\u001b[0;31m:\u001b[0m invalid syntax\n"
     ]
    }
   ],
   "source": [
    "name1 = input(\"Enter your name!\")\n",
    "\n",
    "print(\"Welcome \" + name1 + \" to this madlib! Enter what you want to make a silly madlib!\")\n",
    "name = input(\"Enter a name!\")\n",
    "noun = input(\"Enter a noun\")\n",
    "age = input(\"Enter a age!\")\n",
    "adj = input(\"Enter a adjective!\")\n",
    "verb = input(\"Enter a verb!\")\n",
    "\n",
    "print(name + \" a \" + adj + \" \" + noun + \" \" + age + \" year old accidently \" + verb + \"!\") "
   ]
  },
  {
   "cell_type": "code",
   "execution_count": null,
   "metadata": {},
   "outputs": [],
   "source": []
  }
 ],
 "metadata": {
  "kernelspec": {
   "display_name": "Python 3",
   "language": "python",
   "name": "python3"
  },
  "language_info": {
   "codemirror_mode": {
    "name": "ipython",
    "version": 3
   },
   "file_extension": ".py",
   "mimetype": "text/x-python",
   "name": "python",
   "nbconvert_exporter": "python",
   "pygments_lexer": "ipython3",
   "version": "3.8.3"
  }
 },
 "nbformat": 4,
 "nbformat_minor": 4
}
