{
 "cells": [
  {
   "cell_type": "code",
   "execution_count": 4,
   "metadata": {},
   "outputs": [
    {
     "name": "stdout",
     "output_type": "stream",
     "text": [
      "Welcome to this madlib! Enter what you want to make a silly madlib!\n"
     ]
    },
    {
     "name": "stdin",
     "output_type": "stream",
     "text": [
      "Enter a name! Zach\n",
      "Enter a noun Beast\n",
      "Enter a age! 45\n",
      "Enter a adjective! Hot\n",
      "Enter a verb! Runing\n"
     ]
    },
    {
     "name": "stdout",
     "output_type": "stream",
     "text": [
      "Zach a silly Beast45 year old \n"
     ]
    }
   ],
   "source": [
    "print(\"Welcome to this madlib! Enter what you want to make a silly madlib!\")\n",
    "name = input(\"Enter a name!\")\n",
    "noun = input(\"Enter a noun\")\n",
    "age = input(\"Enter a age!\")\n",
    "adj1 = input(\"Enter a adjective!\")\n",
    "verb = input(\"Enter a verb!\")\n",
    "\n",
    "print(name + \" a silly \" + noun + \"\"+age + \" year old \") "
   ]
  },
  {
   "cell_type": "code",
   "execution_count": null,
   "metadata": {},
   "outputs": [],
   "source": []
  }
 ],
 "metadata": {
  "kernelspec": {
   "display_name": "Python 3",
   "language": "python",
   "name": "python3"
  },
  "language_info": {
   "codemirror_mode": {
    "name": "ipython",
    "version": 3
   },
   "file_extension": ".py",
   "mimetype": "text/x-python",
   "name": "python",
   "nbconvert_exporter": "python",
   "pygments_lexer": "ipython3",
   "version": "3.8.3"
  }
 },
 "nbformat": 4,
 "nbformat_minor": 4
}
